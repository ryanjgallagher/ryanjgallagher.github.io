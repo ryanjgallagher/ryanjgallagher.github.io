{
 "cells": [
  {
   "cell_type": "markdown",
   "id": "033cc49c",
   "metadata": {},
   "source": [
    "# Introduction to Jupyter Notebooks"
   ]
  },
  {
   "cell_type": "markdown",
   "id": "faf06198",
   "metadata": {},
   "source": [
    "Jupyter notebooks are a way of communicating code and text at the same time. They are helpful for writing analyses, visualizing data, creating tutorials, and generally making it easier to follow a narrative that is integrated with code."
   ]
  },
  {
   "cell_type": "code",
   "execution_count": 1,
   "id": "ff534887",
   "metadata": {},
   "outputs": [
    {
     "name": "stdout",
     "output_type": "stream",
     "text": [
      "Hello world\n"
     ]
    }
   ],
   "source": [
    "print('Hello world')"
   ]
  },
  {
   "cell_type": "code",
   "execution_count": 2,
   "id": "36f5aa8f",
   "metadata": {},
   "outputs": [
    {
     "name": "stdout",
     "output_type": "stream",
     "text": [
      "2\n",
      "4\n",
      "6\n",
      "8\n",
      "10\n"
     ]
    }
   ],
   "source": [
    "for n in range(1, 11):\n",
    "    if n % 2 == 0:\n",
    "        print(n)"
   ]
  },
  {
   "cell_type": "markdown",
   "id": "9d8835ad",
   "metadata": {},
   "source": [
    "## Running Notebooks"
   ]
  },
  {
   "cell_type": "markdown",
   "id": "18390d8a",
   "metadata": {},
   "source": [
    "Notebooks are broken into different \"cells\" or \"blocks,\" mainly code blocks and text blocks. If you single click on a part of the noteobok, you can see what is contained in that block. If you double click (or if you single click directly on code), you can edit what is in that block. "
   ]
  },
  {
   "cell_type": "markdown",
   "id": "2dded9de",
   "metadata": {},
   "source": [
    "To run a block, you can press `Shift + Enter` or `Ctrl + Enter`. Try running the code below:"
   ]
  },
  {
   "cell_type": "code",
   "execution_count": 2,
   "id": "156ee844",
   "metadata": {},
   "outputs": [
    {
     "name": "stdout",
     "output_type": "stream",
     "text": [
      "Ryan\n",
      "Nancy\n",
      "Michael\n",
      "William\n",
      "Andre\n",
      "Glenna\n",
      "Kevin\n",
      "Frankie\n"
     ]
    }
   ],
   "source": [
    "names = ['Ryan', 'Nancy', 'Michael', 'William', 'Andre', 'Glenna', 'Kevin', 'Frankie']\n",
    "\n",
    "for name in names:\n",
    "    print(name)"
   ]
  },
  {
   "cell_type": "markdown",
   "id": "749bf4cc",
   "metadata": {},
   "source": [
    "Notice the number next to the code. This indicates in which order different code blocks were run. \n",
    "\n",
    "**It is very important to keep track of the order you are running your code blocks.**\n",
    "\n",
    "This is because variable names can be used across different code blocks. For example, we can write another code block using `names` without redefining it because we already ran the block above:"
   ]
  },
  {
   "cell_type": "code",
   "execution_count": 3,
   "id": "5a0ccd03",
   "metadata": {},
   "outputs": [
    {
     "name": "stdout",
     "output_type": "stream",
     "text": [
      "1: Ryan\n",
      "2: Nancy\n",
      "3: Michael\n",
      "4: William\n",
      "5: Andre\n",
      "6: Glenna\n",
      "7: Kevin\n",
      "8: Frankie\n"
     ]
    }
   ],
   "source": [
    "for name_indx,name in enumerate(names):\n",
    "    print(str(name_indx + 1) + ': ' + name)"
   ]
  },
  {
   "cell_type": "markdown",
   "id": "167b3bcc",
   "metadata": {},
   "source": [
    "However, you can still edit your code above! This means that we could change `names` in the first block and run it _again_ to update what names are in `names`. However, if we don't run code in the second block again, then that change won't be reflected in its output.\n",
    "\n",
    "**Running code blocks out of order can lead to significant confusion and unexpected behavior if you are not careful.** This does not mean you cannot run code out order, there are times when it is helpful to be able and iterate between different blocks. But you need to keep track of what code blocks depend on each other. \n",
    "\n",
    "**_I suggest always reseting your notebook (Kernel -> Restart) and running it from top to bottom in order as a final check before submitting any notebook._**"
   ]
  },
  {
   "cell_type": "markdown",
   "id": "35547b34",
   "metadata": {},
   "source": [
    "## Navigating Notebooks"
   ]
  },
  {
   "cell_type": "markdown",
   "id": "9ea9b024",
   "metadata": {},
   "source": [
    "There are two modes for each block: command mode and edit mode. You can tell if you are commanding or editing a block by the format of the block. You can also tell by the color of the box highlighting the current block. If it is blue, then you are in command mode. If it is green, then you are in edit mode.\n",
    "- To go from command mode to edit mode, double click on the block or press `Enter`. \n",
    "- To go from edit mode to command mode, press `Esc`.\n",
    "\n",
    "If you are in command mode (press `Esc` on a cell), then you can press `b` to add a block _below_ the current one, and `a` to add a block _above_ it. You can use your cursor keys to move between blocks if you are in command mode.\n",
    "\n",
    "To delete a block, double press `d` when selecting it in command mode."
   ]
  },
  {
   "cell_type": "markdown",
   "id": "eb25090e",
   "metadata": {},
   "source": [
    "The two commands for running code blocks are slightly different: \n",
    "- `Shift + Enter` will run the current block and select the one below in command mode\n",
    "- `Ctrl + Enter` will run the current block and keep the selection on the current block"
   ]
  },
  {
   "cell_type": "markdown",
   "id": "d2c46b76",
   "metadata": {},
   "source": [
    "## Text Formatting"
   ]
  },
  {
   "cell_type": "markdown",
   "id": "a9d843db",
   "metadata": {},
   "source": [
    "You can click on different blocks of text and code individually. If you click on a code block, notice that at the menu at the top next to the Run and Stop buttons there is a dropdown menu that says \"Code.\" If you click on a text block, it says \"Markdown.\" Markdown is the name of the _markup language_ that is used to write, format, and style text in Jupyter notebooks."
   ]
  },
  {
   "cell_type": "markdown",
   "id": "96df44d0",
   "metadata": {},
   "source": [
    "By default, a block is a code block. To turn it into a text block (Markdown block), select that block and choose Markdown from the dropdown menu. If you have a block selected in command mode, you can also type `m` to change it to a text block (and `y` to change it back to a code block)."
   ]
  },
  {
   "cell_type": "markdown",
   "id": "9250bb07",
   "metadata": {},
   "source": [
    "### Double click on this text block!\n",
    "\n",
    "You can now see how the text is formatted using Markdown.\n",
    "\n",
    "--------\n",
    "\n",
    "To do a header, you use the # character\n",
    "\n",
    "# Heading\n",
    "\n",
    "## Subheading\n",
    "\n",
    "### Subsubheading \n",
    "\n",
    "--------\n",
    "\n",
    "To italicize font you use _underscores_ or *asteriks*.\n",
    "\n",
    "To bold font you use __double underscores__ or **double asteriks**.\n",
    "\n",
    "---------\n",
    "\n",
    "To do text lists you use dashes\n",
    "- An item in my list\n",
    "- Another item in my list\n",
    "\n",
    "To do numbered lists, you use numerals\n",
    "1. The first thing in my list\n",
    "2. The second thing in my list\n",
    "\n",
    "---------\n",
    "\n",
    "To include a link, you wrap the text in brackets and follow the brackets with the link in parentheses. [Here is a link to our class website](https://ryanjgallagher.github.io/classes/ds2001_fall2021).\n"
   ]
  },
  {
   "cell_type": "markdown",
   "id": "f9879ea2",
   "metadata": {},
   "source": [
    "## Further Reading"
   ]
  },
  {
   "cell_type": "markdown",
   "id": "d948af78",
   "metadata": {},
   "source": [
    "For other Jupyter shortcuts, see [this article](https://towardsdatascience.com/jypyter-notebook-shortcuts-bf0101a98330).\n",
    "\n",
    "For more details on text formatting, see [this cheatsheet](https://github.com/adam-p/markdown-here/wiki/Markdown-Cheatsheet)."
   ]
  }
 ],
 "metadata": {
  "kernelspec": {
   "display_name": "Python 3 (ipykernel)",
   "language": "python",
   "name": "python3"
  },
  "language_info": {
   "codemirror_mode": {
    "name": "ipython",
    "version": 3
   },
   "file_extension": ".py",
   "mimetype": "text/x-python",
   "name": "python",
   "nbconvert_exporter": "python",
   "pygments_lexer": "ipython3",
   "version": "3.9.7"
  }
 },
 "nbformat": 4,
 "nbformat_minor": 5
}
